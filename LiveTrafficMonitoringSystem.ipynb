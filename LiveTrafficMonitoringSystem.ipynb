{
  "nbformat": 4,
  "nbformat_minor": 0,
  "metadata": {
    "colab": {
      "provenance": []
    },
    "kernelspec": {
      "name": "python3",
      "display_name": "Python 3"
    },
    "language_info": {
      "name": "python"
    }
  },
  "cells": [
    {
      "cell_type": "code",
      "execution_count": 13,
      "metadata": {
        "colab": {
          "base_uri": "https://localhost:8080/"
        },
        "id": "HXAlN5UHkjDd",
        "outputId": "e2f8cbf4-1ea2-4d1f-8aad-c648069b5630"
      },
      "outputs": [
        {
          "output_type": "stream",
          "name": "stdout",
          "text": [
            "Collecting streamlit\n",
            "  Downloading streamlit-1.39.0-py2.py3-none-any.whl.metadata (8.5 kB)\n",
            "Requirement already satisfied: opencv-python-headless in /usr/local/lib/python3.10/dist-packages (4.10.0.84)\n",
            "Requirement already satisfied: numpy in /usr/local/lib/python3.10/dist-packages (1.26.4)\n",
            "Requirement already satisfied: requests in /usr/local/lib/python3.10/dist-packages (2.32.3)\n",
            "Requirement already satisfied: beautifulsoup4 in /usr/local/lib/python3.10/dist-packages (4.12.3)\n",
            "Requirement already satisfied: matplotlib in /usr/local/lib/python3.10/dist-packages (3.7.1)\n",
            "Requirement already satisfied: altair<6,>=4.0 in /usr/local/lib/python3.10/dist-packages (from streamlit) (4.2.2)\n",
            "Requirement already satisfied: blinker<2,>=1.0.0 in /usr/lib/python3/dist-packages (from streamlit) (1.4)\n",
            "Requirement already satisfied: cachetools<6,>=4.0 in /usr/local/lib/python3.10/dist-packages (from streamlit) (5.5.0)\n",
            "Requirement already satisfied: click<9,>=7.0 in /usr/local/lib/python3.10/dist-packages (from streamlit) (8.1.7)\n",
            "Requirement already satisfied: packaging<25,>=20 in /usr/local/lib/python3.10/dist-packages (from streamlit) (24.1)\n",
            "Requirement already satisfied: pandas<3,>=1.4.0 in /usr/local/lib/python3.10/dist-packages (from streamlit) (2.2.2)\n",
            "Requirement already satisfied: pillow<11,>=7.1.0 in /usr/local/lib/python3.10/dist-packages (from streamlit) (10.4.0)\n",
            "Requirement already satisfied: protobuf<6,>=3.20 in /usr/local/lib/python3.10/dist-packages (from streamlit) (3.20.3)\n",
            "Requirement already satisfied: pyarrow>=7.0 in /usr/local/lib/python3.10/dist-packages (from streamlit) (16.1.0)\n",
            "Requirement already satisfied: rich<14,>=10.14.0 in /usr/local/lib/python3.10/dist-packages (from streamlit) (13.9.2)\n",
            "Requirement already satisfied: tenacity<10,>=8.1.0 in /usr/local/lib/python3.10/dist-packages (from streamlit) (9.0.0)\n",
            "Requirement already satisfied: toml<2,>=0.10.1 in /usr/local/lib/python3.10/dist-packages (from streamlit) (0.10.2)\n",
            "Requirement already satisfied: typing-extensions<5,>=4.3.0 in /usr/local/lib/python3.10/dist-packages (from streamlit) (4.12.2)\n",
            "Requirement already satisfied: gitpython!=3.1.19,<4,>=3.0.7 in /usr/local/lib/python3.10/dist-packages (from streamlit) (3.1.43)\n",
            "Collecting pydeck<1,>=0.8.0b4 (from streamlit)\n",
            "  Downloading pydeck-0.9.1-py2.py3-none-any.whl.metadata (4.1 kB)\n",
            "Requirement already satisfied: tornado<7,>=6.0.3 in /usr/local/lib/python3.10/dist-packages (from streamlit) (6.3.3)\n",
            "Collecting watchdog<6,>=2.1.5 (from streamlit)\n",
            "  Downloading watchdog-5.0.3-py3-none-manylinux2014_x86_64.whl.metadata (41 kB)\n",
            "\u001b[2K     \u001b[90m━━━━━━━━━━━━━━━━━━━━━━━━━━━━━━━━━━━━━━━━\u001b[0m \u001b[32m41.9/41.9 kB\u001b[0m \u001b[31m979.4 kB/s\u001b[0m eta \u001b[36m0:00:00\u001b[0m\n",
            "\u001b[?25hRequirement already satisfied: charset-normalizer<4,>=2 in /usr/local/lib/python3.10/dist-packages (from requests) (3.4.0)\n",
            "Requirement already satisfied: idna<4,>=2.5 in /usr/local/lib/python3.10/dist-packages (from requests) (3.10)\n",
            "Requirement already satisfied: urllib3<3,>=1.21.1 in /usr/local/lib/python3.10/dist-packages (from requests) (2.2.3)\n",
            "Requirement already satisfied: certifi>=2017.4.17 in /usr/local/lib/python3.10/dist-packages (from requests) (2024.8.30)\n",
            "Requirement already satisfied: soupsieve>1.2 in /usr/local/lib/python3.10/dist-packages (from beautifulsoup4) (2.6)\n",
            "Requirement already satisfied: contourpy>=1.0.1 in /usr/local/lib/python3.10/dist-packages (from matplotlib) (1.3.0)\n",
            "Requirement already satisfied: cycler>=0.10 in /usr/local/lib/python3.10/dist-packages (from matplotlib) (0.12.1)\n",
            "Requirement already satisfied: fonttools>=4.22.0 in /usr/local/lib/python3.10/dist-packages (from matplotlib) (4.54.1)\n",
            "Requirement already satisfied: kiwisolver>=1.0.1 in /usr/local/lib/python3.10/dist-packages (from matplotlib) (1.4.7)\n",
            "Requirement already satisfied: pyparsing>=2.3.1 in /usr/local/lib/python3.10/dist-packages (from matplotlib) (3.2.0)\n",
            "Requirement already satisfied: python-dateutil>=2.7 in /usr/local/lib/python3.10/dist-packages (from matplotlib) (2.8.2)\n",
            "Requirement already satisfied: entrypoints in /usr/local/lib/python3.10/dist-packages (from altair<6,>=4.0->streamlit) (0.4)\n",
            "Requirement already satisfied: jinja2 in /usr/local/lib/python3.10/dist-packages (from altair<6,>=4.0->streamlit) (3.1.4)\n",
            "Requirement already satisfied: jsonschema>=3.0 in /usr/local/lib/python3.10/dist-packages (from altair<6,>=4.0->streamlit) (4.23.0)\n",
            "Requirement already satisfied: toolz in /usr/local/lib/python3.10/dist-packages (from altair<6,>=4.0->streamlit) (0.12.1)\n",
            "Requirement already satisfied: gitdb<5,>=4.0.1 in /usr/local/lib/python3.10/dist-packages (from gitpython!=3.1.19,<4,>=3.0.7->streamlit) (4.0.11)\n",
            "Requirement already satisfied: pytz>=2020.1 in /usr/local/lib/python3.10/dist-packages (from pandas<3,>=1.4.0->streamlit) (2024.2)\n",
            "Requirement already satisfied: tzdata>=2022.7 in /usr/local/lib/python3.10/dist-packages (from pandas<3,>=1.4.0->streamlit) (2024.2)\n",
            "Requirement already satisfied: six>=1.5 in /usr/local/lib/python3.10/dist-packages (from python-dateutil>=2.7->matplotlib) (1.16.0)\n",
            "Requirement already satisfied: markdown-it-py>=2.2.0 in /usr/local/lib/python3.10/dist-packages (from rich<14,>=10.14.0->streamlit) (3.0.0)\n",
            "Requirement already satisfied: pygments<3.0.0,>=2.13.0 in /usr/local/lib/python3.10/dist-packages (from rich<14,>=10.14.0->streamlit) (2.18.0)\n",
            "Requirement already satisfied: smmap<6,>=3.0.1 in /usr/local/lib/python3.10/dist-packages (from gitdb<5,>=4.0.1->gitpython!=3.1.19,<4,>=3.0.7->streamlit) (5.0.1)\n",
            "Requirement already satisfied: MarkupSafe>=2.0 in /usr/local/lib/python3.10/dist-packages (from jinja2->altair<6,>=4.0->streamlit) (3.0.1)\n",
            "Requirement already satisfied: attrs>=22.2.0 in /usr/local/lib/python3.10/dist-packages (from jsonschema>=3.0->altair<6,>=4.0->streamlit) (24.2.0)\n",
            "Requirement already satisfied: jsonschema-specifications>=2023.03.6 in /usr/local/lib/python3.10/dist-packages (from jsonschema>=3.0->altair<6,>=4.0->streamlit) (2024.10.1)\n",
            "Requirement already satisfied: referencing>=0.28.4 in /usr/local/lib/python3.10/dist-packages (from jsonschema>=3.0->altair<6,>=4.0->streamlit) (0.35.1)\n",
            "Requirement already satisfied: rpds-py>=0.7.1 in /usr/local/lib/python3.10/dist-packages (from jsonschema>=3.0->altair<6,>=4.0->streamlit) (0.20.0)\n",
            "Requirement already satisfied: mdurl~=0.1 in /usr/local/lib/python3.10/dist-packages (from markdown-it-py>=2.2.0->rich<14,>=10.14.0->streamlit) (0.1.2)\n",
            "Downloading streamlit-1.39.0-py2.py3-none-any.whl (8.7 MB)\n",
            "\u001b[2K   \u001b[90m━━━━━━━━━━━━━━━━━━━━━━━━━━━━━━━━━━━━━━━━\u001b[0m \u001b[32m8.7/8.7 MB\u001b[0m \u001b[31m17.9 MB/s\u001b[0m eta \u001b[36m0:00:00\u001b[0m\n",
            "\u001b[?25hDownloading pydeck-0.9.1-py2.py3-none-any.whl (6.9 MB)\n",
            "\u001b[2K   \u001b[90m━━━━━━━━━━━━━━━━━━━━━━━━━━━━━━━━━━━━━━━━\u001b[0m \u001b[32m6.9/6.9 MB\u001b[0m \u001b[31m18.7 MB/s\u001b[0m eta \u001b[36m0:00:00\u001b[0m\n",
            "\u001b[?25hDownloading watchdog-5.0.3-py3-none-manylinux2014_x86_64.whl (79 kB)\n",
            "\u001b[2K   \u001b[90m━━━━━━━━━━━━━━━━━━━━━━━━━━━━━━━━━━━━━━━━\u001b[0m \u001b[32m79.3/79.3 kB\u001b[0m \u001b[31m2.7 MB/s\u001b[0m eta \u001b[36m0:00:00\u001b[0m\n",
            "\u001b[?25hInstalling collected packages: watchdog, pydeck, streamlit\n",
            "Successfully installed pydeck-0.9.1 streamlit-1.39.0 watchdog-5.0.3\n"
          ]
        }
      ],
      "source": [
        "!pip install streamlit opencv-python-headless numpy requests beautifulsoup4 matplotlib"
      ]
    },
    {
      "cell_type": "code",
      "source": [
        "%%writefile app.py\n",
        "import time\n",
        "import cv2\n",
        "import numpy as np\n",
        "\n",
        "vehicle_classes = {\"car\", \"bus\", \"motorcycle\", \"truck\"}\n",
        "\n",
        "\n",
        "# Load YOLO model\n",
        "net = cv2.dnn.readNet(\"yolov3.weights\", \"yolov3.cfg\")\n",
        "layer_names = net.getLayerNames()\n",
        "output_layers = [layer_names[i - 1] for i in net.getUnconnectedOutLayers()]\n",
        "\n",
        "with open(\"coco.names\", \"r\") as f:\n",
        "    classes = [line.strip() for line in f.readlines()]\n",
        "\n",
        "def detect_objects(image):\n",
        "    \"\"\"Detect objects using the YOLO model.\"\"\"\n",
        "    blob = cv2.dnn.blobFromImage(image, 0.00392, (416, 416), (0, 0, 0), swapRB=True, crop=False)\n",
        "    net.setInput(blob)\n",
        "    return net.forward(output_layers)\n",
        "\n",
        "def process_detections(detections, width, height):\n",
        "    \"\"\"Process YOLO detections and filter vehicles.\"\"\"\n",
        "    vehicle_classes = {\"car\", \"bus\", \"motorcycle\", \"truck\"}\n",
        "    boxes, confidences, class_ids = [], [], []\n",
        "\n",
        "    for output in detections:\n",
        "        for detection in output:\n",
        "            scores = detection[5:]\n",
        "            class_id = np.argmax(scores)\n",
        "            confidence = scores[class_id]\n",
        "\n",
        "            if confidence > 0.5:\n",
        "                x = int(detection[0] * width)\n",
        "                y = int(detection[1] * height)\n",
        "                w = int(detection[2] * width)\n",
        "                h = int(detection[3] * height)\n",
        "                boxes.append([x, y, w, h])\n",
        "                confidences.append(float(confidence))\n",
        "                class_ids.append(class_id)\n",
        "\n",
        "    indexes = cv2.dnn.NMSBoxes(boxes, confidences, 0.5, 0.4)\n",
        "    return indexes, boxes, class_ids\n",
        "\n",
        "\n",
        "import requests\n",
        "from bs4 import BeautifulSoup\n",
        "import cv2\n",
        "import numpy as np\n",
        "\n",
        "def fetch_image(city):\n",
        "    \"\"\"Fetch an image from the traffic camera.\"\"\"\n",
        "    url = f\"https://onemotoring.lta.gov.sg/content/onemotoring/home/driving/traffic_information/traffic-cameras/{city}.html\"\n",
        "    response = requests.get(url)\n",
        "    soup = BeautifulSoup(response.content, 'html.parser')\n",
        "\n",
        "    img_src = [img['src'] for img in soup.find_all('img') if 'datamall' in img['src']]\n",
        "    if not img_src:\n",
        "        return None\n",
        "    img = []\n",
        "    for i in range(3):\n",
        "      img_url = \"https:\" + img_src[i]\n",
        "      img_response = requests.get(img_url)\n",
        "      img_array = np.frombuffer(img_response.content, np.uint8)\n",
        "      imgcode = cv2.imdecode(img_array, cv2.IMREAD_COLOR)\n",
        "      img.append(imgcode)\n",
        "    return img\n",
        "\n",
        "\n",
        "def Draw_Predictions(image, indexes, boxes, class_ids):\n",
        "    \"\"\"Draw bounding boxes, labels, and print the count of each vehicle type.\"\"\"\n",
        "    font = cv2.FONT_HERSHEY_PLAIN\n",
        "    vehicle_counts = {}\n",
        "    if len(indexes) > 0:\n",
        "      for i in indexes.flatten():\n",
        "          x, y, w, h = boxes[i]\n",
        "          label = str(classes[class_ids[i]])\n",
        "\n",
        "          if label in vehicle_classes:\n",
        "              # Increment the count of the detected vehicle type\n",
        "              vehicle_counts[label] = vehicle_counts.get(label, 0) + 1\n",
        "\n",
        "              color = (0, 255, 0)  # Green for vehicles\n",
        "              cv2.rectangle(image, (x, y), (x + w, y + h), color, 2)\n",
        "              cv2.putText(image, label, (x, y - 10), font, 2, color, 2)\n",
        "\n",
        "    # Convert BGR to RGB for display\n",
        "    image_rgb = cv2.cvtColor(image, cv2.COLOR_BGR2RGB)\n",
        "    return image_rgb,vehicle_counts\n",
        "\n",
        "import streamlit as st\n",
        "import matplotlib.pyplot as plt\n",
        "import random\n",
        "\n",
        "# Import your functions from other modules\n",
        "#rom traffic_image import fetch_image\n",
        "#from yolo_model import detect_objects, process_detections\n",
        "\n",
        "st.set_page_config(page_title=\"Live Traffic Monitoring\", layout=\"wide\")\n",
        "st.title(\"Live Traffic Monitoring System\")\n",
        "# List of cities and angles\n",
        "city_options = {\n",
        "    \"Woodlands Checkpoint\": \"woodlands\",\n",
        "    \"Seletar Expressway (SLE)\": \"sle\",\n",
        "    \"Tampines Expressway (TPE)\": \"tpe\",\n",
        "    \"Bukit Timah Expressway (BKE)\": \"bke\",\n",
        "    \"Kallang-Paya Lebar Expressway (KPE)\": \"kpe\",\n",
        "    \"Central Expressway (CTE)\": \"cte\",\n",
        "    \"Pan-Island Expressway (PIE)\": \"pie\",\n",
        "    \"East Coast Parkway (ECP)\": \"ecp\",\n",
        "    \"Ayer Rajah Expressway (AYE)\": \"aye\",\n",
        "    \"Kranji Expressway (KJE)\": \"kje\"\n",
        "}\n",
        "\n",
        "# Dropdown with display names, returning backend value\n",
        "city = st.selectbox(\"Select a city:\", options=list(city_options.keys()))\n",
        "\n",
        "# Get the backend value\n",
        "backend_value = city_options[city]\n",
        "\n",
        "st.write(f\"You selected: {city}\")\n",
        "#cities = ['woodlands', 'sle', 'tpe', 'bke', 'kpe', 'cte', 'pie', 'ecp', 'aye', 'kje']\n",
        "angles = ['Angle 1', 'Angle 2', 'Angle 3']\n",
        "\n",
        "#city = st.selectbox(\"Select a city:\", cities)\n",
        "placeholder = st.empty()  # Reserve space for dynamic updates\n",
        "with placeholder.container():\n",
        "      if st.button(\"Fetch and Analyze Traffic Images\"):\n",
        "          st.header(f\"Traffic Monitoring for {city.title()}\")\n",
        "          img = fetch_image(backend_value)  # Fetch image for the given city\n",
        "          if img is not None:\n",
        "              cols = st.columns(3)  # Create three columns for three angles\n",
        "\n",
        "              for idx, angle in enumerate(angles):\n",
        "                  with cols[idx]:  # Load each image in a separate column\n",
        "                      st.subheader(angle)\n",
        "                      height, width, _ = img[idx].shape\n",
        "                      detections = detect_objects(img[idx])\n",
        "                      indexes, boxes, class_ids = process_detections(detections, width, height)\n",
        "                      image_rgb,vehicle_counts = Draw_Predictions(img[idx], indexes, boxes, class_ids)\n",
        "\n",
        "\n",
        "                      # Display the image\n",
        "                      st.image(image_rgb, channels=\"BGR\", use_column_width=True)\n",
        "\n",
        "\n",
        "                      # Display vehicle counts as a chart\n",
        "                      if vehicle_counts:\n",
        "                          fig, ax = plt.subplots()\n",
        "                          ax.bar(vehicle_counts.keys(), vehicle_counts.values(), color='skyblue')\n",
        "                          ax.set_title(f\"Vehicle Counts for {angle}\")\n",
        "                          ax.set_xlabel(\"Vehicle Type\")\n",
        "                          ax.set_ylabel(\"Count\")\n",
        "                          st.pyplot(fig)\n",
        "                      else:\n",
        "                          st.write(\"No vehicles detected.\")\n"
      ],
      "metadata": {
        "colab": {
          "base_uri": "https://localhost:8080/"
        },
        "id": "rftpDKHvmMWt",
        "outputId": "b3e5fc21-5c57-46d6-b4d1-1a82f3bf74d4"
      },
      "execution_count": 66,
      "outputs": [
        {
          "output_type": "stream",
          "name": "stdout",
          "text": [
            "Overwriting app.py\n"
          ]
        }
      ]
    },
    {
      "cell_type": "code",
      "source": [
        "!wget -q -O - ipv4.icanhazip.com"
      ],
      "metadata": {
        "colab": {
          "base_uri": "https://localhost:8080/"
        },
        "id": "WjKobfPfpa-8",
        "outputId": "b7cfba78-c4e9-424b-c3dd-9cd17f7436e2"
      },
      "execution_count": 67,
      "outputs": [
        {
          "output_type": "stream",
          "name": "stdout",
          "text": [
            "34.23.184.171\n"
          ]
        }
      ]
    },
    {
      "cell_type": "code",
      "source": [
        "!streamlit run app.py & npx localtunnel --port 8501"
      ],
      "metadata": {
        "colab": {
          "base_uri": "https://localhost:8080/"
        },
        "id": "-B5czgf3peul",
        "outputId": "5253af87-e23a-459e-8e95-69485c305a1b"
      },
      "execution_count": null,
      "outputs": [
        {
          "output_type": "stream",
          "name": "stdout",
          "text": [
            "\n",
            "Collecting usage statistics. To deactivate, set browser.gatherUsageStats to false.\n",
            "\u001b[0m\n",
            "\u001b[0m\n",
            "\u001b[34m\u001b[1m  You can now view your Streamlit app in your browser.\u001b[0m\n",
            "\u001b[0m\n",
            "\u001b[34m  Local URL: \u001b[0m\u001b[1mhttp://localhost:8501\u001b[0m\n",
            "\u001b[34m  Network URL: \u001b[0m\u001b[1mhttp://172.28.0.12:8501\u001b[0m\n",
            "\u001b[34m  External URL: \u001b[0m\u001b[1mhttp://34.23.184.171:8501\u001b[0m\n",
            "\u001b[0m\n",
            "your url is: https://giant-clowns-enjoy.loca.lt\n"
          ]
        }
      ]
    }
  ]
}